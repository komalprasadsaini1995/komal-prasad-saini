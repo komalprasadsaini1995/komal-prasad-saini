{
  "nbformat": 4,
  "nbformat_minor": 0,
  "metadata": {
    "colab": {
      "provenance": [],
      "authorship_tag": "ABX9TyOm3/Jcr9V8fldTLOsXB3fo",
      "include_colab_link": true
    },
    "kernelspec": {
      "name": "python3",
      "display_name": "Python 3"
    },
    "language_info": {
      "name": "python"
    }
  },
  "cells": [
    {
      "cell_type": "markdown",
      "metadata": {
        "id": "view-in-github",
        "colab_type": "text"
      },
      "source": [
        "<a href=\"https://colab.research.google.com/github/kp2899990/komal-prasad-saini/blob/main/numpy.ipynb\" target=\"_parent\"><img src=\"https://colab.research.google.com/assets/colab-badge.svg\" alt=\"Open In Colab\"/></a>"
      ]
    },
    {
      "cell_type": "markdown",
      "source": [
        "#part -> 1 numpy array basics"
      ],
      "metadata": {
        "id": "xs0CMSmsqGqa"
      }
    },
    {
      "cell_type": "code",
      "execution_count": 10,
      "metadata": {
        "colab": {
          "base_uri": "https://localhost:8080/",
          "height": 0
        },
        "id": "GynPIT-Hp98q",
        "outputId": "1510ca50-86d2-40d7-8b7f-a875d8df6e4e"
      },
      "outputs": [
        {
          "output_type": "stream",
          "name": "stdout",
          "text": [
            "1d_array:\n",
            "array: [1 2 3 4 5]\n",
            "shape: (5,)\n",
            "dimensions: 1\n",
            "2d_array:\n",
            "array_2d: [[1 2]\n",
            " [3 4]]\n",
            "shape: (2, 2)\n",
            "dimensions: 2\n",
            "3d_array:\n",
            "array_3d: [[[1 2]\n",
            "  [3 4]\n",
            "  [5 6]\n",
            "  [7 8]]]\n",
            "shape: (1, 4, 2)\n",
            "dimensions: 3\n"
          ]
        }
      ],
      "source": [
        "import numpy as np\n",
        "array_1d = np.array([1, 2, 3, 4, 5])\n",
        "array_2d = np.array([[1, 2],[3, 4]])\n",
        "array_3d = np.array([[[1, 2],[3, 4],[5, 6],[7, 8]]])\n",
        "print(\"1d_array:\")\n",
        "print(\"array:\", array_1d)\n",
        "print(\"shape:\", array_1d.shape)\n",
        "print(\"dimensions:\", array_1d.ndim)\n",
        "print(\"2d_array:\")\n",
        "print(\"array_2d:\", array_2d)\n",
        "print(\"shape:\", array_2d.shape)\n",
        "print(\"dimensions:\", array_2d.ndim)\n",
        "print(\"3d_array:\")\n",
        "print(\"array_3d:\", array_3d)\n",
        "print(\"shape:\", array_3d.shape)\n",
        "print(\"dimensions:\", array_3d.ndim)"
      ]
    },
    {
      "cell_type": "markdown",
      "source": [
        "part2 -> indexing andf slicing"
      ],
      "metadata": {
        "id": "dgzesLLvvkhO"
      }
    },
    {
      "cell_type": "code",
      "source": [
        "arr = np.array([10, 20, 30, 40, 50])\n",
        "second_element = arr[1]\n",
        "third_element = arr[2]\n",
        "last_element = arr[-1]\n",
        "print(\"second_element:\", second_element)\n",
        "print(\"third_element:\", third_element)\n",
        "print(\"last_element:\", last_element)\n",
        "sliced_array = arr[1:4]\n",
        "print(\"sliced array[20, 30, 40]:\", sliced_array)"
      ],
      "metadata": {
        "colab": {
          "base_uri": "https://localhost:8080/",
          "height": 0
        },
        "id": "Znz5Zi0Gvjx7",
        "outputId": "e392718b-6b43-411c-facb-258c71d110f8"
      },
      "execution_count": 15,
      "outputs": [
        {
          "output_type": "stream",
          "name": "stdout",
          "text": [
            "second_element: 20\n",
            "third_element: 30\n",
            "last_element: 50\n",
            "sliced array[20, 30, 40]: [20 30 40]\n"
          ]
        }
      ]
    },
    {
      "cell_type": "markdown",
      "source": [
        "part3 -> array operations"
      ],
      "metadata": {
        "id": "B5EgAw83xzJk"
      }
    },
    {
      "cell_type": "code",
      "source": [
        "array_a = np.array([1, 2, 3])\n",
        "array_b = np.array([4, 5, 6])\n",
        "addition = array_a + array_b\n",
        "subtraction = array_a - array_b\n",
        "multiplication = array_a * array_b\n",
        "division = array_a / array_b\n",
        "max_value = np.max(array_a)\n",
        "min_value = np.min(array_a)\n",
        "mean_value = np.mean(array_a)\n",
        "std_deviation = np.std(array_a)\n",
        "print(\"addition:\", addition)\n",
        "print(\"subtraction:\", subtraction)\n",
        "print(\"multplication:\", multiplication)\n",
        "print(\"division:\", division)\n",
        "print(\"max_value:\", max_value)\n",
        "print(\"min_value:\", min_value)\n",
        "print(\"mean_value:\", mean_value)\n",
        "print(\"std_deviation:\", std_deviation)"
      ],
      "metadata": {
        "colab": {
          "base_uri": "https://localhost:8080/",
          "height": 0
        },
        "id": "8YlF2p7MxysM",
        "outputId": "791997b8-b655-47b6-f35e-62167a19e52c"
      },
      "execution_count": 18,
      "outputs": [
        {
          "output_type": "stream",
          "name": "stdout",
          "text": [
            "addition: [5 7 9]\n",
            "subtraction: [-3 -3 -3]\n",
            "multplication: [ 4 10 18]\n",
            "division: [0.25 0.4  0.5 ]\n",
            "max_value: 3\n",
            "min_value: 1\n",
            "mean_value: 2.0\n",
            "std_deviation: 0.816496580927726\n"
          ]
        }
      ]
    },
    {
      "cell_type": "markdown",
      "source": [
        "Matrix operations"
      ],
      "metadata": {
        "id": "pKagFnSeDin-"
      }
    },
    {
      "cell_type": "code",
      "source": [
        "matrix_2d = np.array([[1, 2],[3, 4]])\n",
        "transpose_matrix = np.transpose(matrix_2d)\n",
        "matrix_a = np.array([[1, 2],[3, 4]])\n",
        "matrix_b = np.array([[5, 6],[7, 8]])\n",
        "matrix_multiplication = np.dot(matrix_a, matrix_b)\n",
        "print(\"2d_matrix:\", matrix_2d)\n",
        "print(\"transpose of 2d matrix:\", transpose_matrix)\n",
        "print(\"matrix multiplication result:\", matrix_multiplication)"
      ],
      "metadata": {
        "colab": {
          "base_uri": "https://localhost:8080/",
          "height": 0
        },
        "id": "-D16dmw9Dpdd",
        "outputId": "eb000c0d-5f70-4507-e6b8-23048078bb5f"
      },
      "execution_count": 21,
      "outputs": [
        {
          "output_type": "stream",
          "name": "stdout",
          "text": [
            "2d_matrix: [[1 2]\n",
            " [3 4]]\n",
            "transpose of 2d matrix: [[1 3]\n",
            " [2 4]]\n",
            "matrix multiplication result: [[19 22]\n",
            " [43 50]]\n"
          ]
        }
      ]
    },
    {
      "cell_type": "markdown",
      "source": [
        "BROADCASTING"
      ],
      "metadata": {
        "id": "8FB999MgOsVb"
      }
    },
    {
      "cell_type": "code",
      "source": [
        "import numpy as np\n",
        "array_2d = np.array([[1, 2, 3, 4], [5, 6, 7, 8], [9, 10, 11, 12]])\n",
        "array_1d = np.array([1, 2, 3, 4])\n",
        "result = array_2d + array_1d\n",
        "\n",
        "print(\"2D Array:\\n\", array_2d)\n",
        "print(\"1D Array:\\n\", array_1d)\n",
        "print(\"Result of Broadcasting:\\n\", result)\n"
      ],
      "metadata": {
        "colab": {
          "base_uri": "https://localhost:8080/"
        },
        "id": "4xLiomJ3OrqU",
        "outputId": "4272804c-1004-43f8-9a5f-37c5d986bf74"
      },
      "execution_count": 22,
      "outputs": [
        {
          "output_type": "stream",
          "name": "stdout",
          "text": [
            "2D Array:\n",
            " [[ 1  2  3  4]\n",
            " [ 5  6  7  8]\n",
            " [ 9 10 11 12]]\n",
            "1D Array:\n",
            " [1 2 3 4]\n",
            "Result of Broadcasting:\n",
            " [[ 2  4  6  8]\n",
            " [ 6  8 10 12]\n",
            " [10 12 14 16]]\n"
          ]
        }
      ]
    },
    {
      "cell_type": "markdown",
      "source": [
        "Fancing indexing\n"
      ],
      "metadata": {
        "id": "5TXqG214PrFn"
      }
    },
    {
      "cell_type": "code",
      "source": [
        "arr = np.array([5, 10, 15, 20, 25, 30])\n",
        "fancy_indexed_elements = arr[[1, 3, 4]]\n",
        "\n",
        "print(\"Array:\", arr)\n",
        "print(\"Extracted Elements:\", fancy_indexed_elements)\n"
      ],
      "metadata": {
        "colab": {
          "base_uri": "https://localhost:8080/"
        },
        "id": "4HewvH0PP1zF",
        "outputId": "abddbeb7-3a7d-450a-d958-bd2fb8e1dc20"
      },
      "execution_count": 23,
      "outputs": [
        {
          "output_type": "stream",
          "name": "stdout",
          "text": [
            "Array: [ 5 10 15 20 25 30]\n",
            "Extracted Elements: [10 20 25]\n"
          ]
        }
      ]
    },
    {
      "cell_type": "markdown",
      "source": [
        "Boolean masking"
      ],
      "metadata": {
        "id": "48T5pLTtQHT0"
      }
    },
    {
      "cell_type": "code",
      "source": [
        "random_array = np.random.randint(1, 51, size=10)\n",
        "mask = random_array > 25\n",
        "filtered_elements = random_array[mask]\n",
        "print(\"Random Array:\", random_array)\n",
        "print(\"Elements Greater Than 25:\", filtered_elements)\n"
      ],
      "metadata": {
        "colab": {
          "base_uri": "https://localhost:8080/"
        },
        "id": "cvbOEPTUQNXA",
        "outputId": "e48f0d0d-c43a-4c13-e2e4-39c437727cea"
      },
      "execution_count": 24,
      "outputs": [
        {
          "output_type": "stream",
          "name": "stdout",
          "text": [
            "Random Array: [ 9 29 19 15 34  7 10 26 35  7]\n",
            "Elements Greater Than 25: [29 34 26 35]\n"
          ]
        }
      ]
    },
    {
      "cell_type": "markdown",
      "source": [
        "Sorting"
      ],
      "metadata": {
        "id": "Aq98kw5KQn9F"
      }
    },
    {
      "cell_type": "code",
      "source": [
        "arr_to_sort = np.array([30, 10, 50, 20, 40])\n",
        "ascending_order = np.sort(arr_to_sort)\n",
        "descending_order = np.sort(arr_to_sort)[::-1]\n",
        "\n",
        "print(\"Original Array:\", arr_to_sort)\n",
        "print(\"Sorted in Ascending Order:\", ascending_order)\n",
        "print(\"Sorted in Descending Order:\", descending_order)\n"
      ],
      "metadata": {
        "colab": {
          "base_uri": "https://localhost:8080/"
        },
        "id": "cWu0RYAhQszB",
        "outputId": "b72ede1f-7902-406b-ece8-38982f3bc340"
      },
      "execution_count": 25,
      "outputs": [
        {
          "output_type": "stream",
          "name": "stdout",
          "text": [
            "Original Array: [30 10 50 20 40]\n",
            "Sorted in Ascending Order: [10 20 30 40 50]\n",
            "Sorted in Descending Order: [50 40 30 20 10]\n"
          ]
        }
      ]
    }
  ]
}