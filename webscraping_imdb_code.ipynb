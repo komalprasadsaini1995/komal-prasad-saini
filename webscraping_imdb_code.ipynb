{
  "nbformat": 4,
  "nbformat_minor": 0,
  "metadata": {
    "colab": {
      "provenance": [],
      "include_colab_link": true
    },
    "kernelspec": {
      "name": "python3",
      "display_name": "Python 3"
    },
    "language_info": {
      "name": "python"
    }
  },
  "cells": [
    {
      "cell_type": "markdown",
      "metadata": {
        "id": "view-in-github",
        "colab_type": "text"
      },
      "source": [
        "<a href=\"https://colab.research.google.com/github/kp2899990/komal-prasad-saini/blob/main/webscraping_imdb_code.ipynb\" target=\"_parent\"><img src=\"https://colab.research.google.com/assets/colab-badge.svg\" alt=\"Open In Colab\"/></a>"
      ]
    },
    {
      "cell_type": "markdown",
      "source": [
        "## Imports"
      ],
      "metadata": {
        "id": "QlXlJrZ6SAvk"
      }
    },
    {
      "cell_type": "code",
      "source": [
        "from requests import get\n",
        "from bs4 import BeautifulSoup\n",
        "from warnings import warn\n",
        "from time import sleep\n",
        "from random import randint\n",
        "import numpy as np, pandas as pd\n",
        "import seaborn as sns\n",
        "import matplotlib.pyplot as plt"
      ],
      "metadata": {
        "id": "2se-8kU1vqvL"
      },
      "execution_count": null,
      "outputs": []
    },
    {
      "cell_type": "markdown",
      "source": [
        "## Scraping"
      ],
      "metadata": {
        "id": "tYkaRDZ1SC2n"
      }
    },
    {
      "cell_type": "code",
      "execution_count": null,
      "metadata": {
        "id": "IbdBGX8LYU4A"
      },
      "outputs": [],
      "source": [
        "# Note this takes about 40 min to run if np.arange is set to 9951 as the stopping point.\n",
        "\n",
        "pages = np.arange(1, 100, 50) # Last time I tried, I could only go to 10000 items because after that the URI has no discernable pattern to combat webcrawlers; I just did 4 pages for demonstration purposes. You can increase this for your own projects.\n",
        "headers = {'Accept-Language': 'en-US,en;q=0.8'} # If this is not specified, the default language is Chinese\n",
        "\n",
        "#initialize empty lists to store the variables scraped\n",
        "titles = []\n",
        "years = []\n",
        "ratings = []\n",
        "genres = []\n",
        "runtimes = []\n",
        "imdb_ratings = []\n",
        "imdb_ratings_standardized = []\n",
        "metascores = []\n",
        "votes = []\n",
        "\n",
        "for page in pages:\n",
        "\n",
        "    #get request for sci-fi\n",
        "    response = get(\"https://www.imdb.com/search/title?genres=sci-fi&\"\n",
        "                   + \"start=\"\n",
        "                   + str(page)\n",
        "                   + \"&explore=title_type,genres&ref_=adv_prv\", headers=headers)\n",
        "\n",
        "    sleep(randint(8,15))\n",
        "\n",
        "    #throw warning for status codes that are not 200\n",
        "    if response.status_code != 200:\n",
        "        warn('Request: {}; Status code: {}'.format(requests, response.status_code))\n",
        "\n",
        "    #parse the content of current iteration of request\n",
        "    page_html = BeautifulSoup(response.text, 'html.parser')\n",
        "\n",
        "    movie_containers = page_html.find_all('div', class_ = 'lister-item mode-advanced')\n",
        "\n",
        "    #extract the 50 movies for that page\n",
        "    for container in movie_containers:\n",
        "\n",
        "        #conditional for all with metascore\n",
        "        if container.find('div', class_ = 'ratings-metascore') is not None:\n",
        "\n",
        "            #title\n",
        "            title = container.h3.a.text\n",
        "            titles.append(title)\n",
        "\n",
        "            if container.h3.find('span', class_= 'lister-item-year text-muted unbold') is not None:\n",
        "\n",
        "              #year released\n",
        "              year = container.h3.find('span', class_= 'lister-item-year text-muted unbold').text # remove the parentheses around the year and make it an integer\n",
        "              years.append(year)\n",
        "\n",
        "            else:\n",
        "              years.append(None) # each of the additional if clauses are to handle type None data, replacing it with an empty string so the arrays are of the same length at the end of the scraping\n",
        "\n",
        "            if container.p.find('span', class_ = 'certificate') is not None:\n",
        "\n",
        "              #rating\n",
        "              rating = container.p.find('span', class_= 'certificate').text\n",
        "              ratings.append(rating)\n",
        "\n",
        "            else:\n",
        "              ratings.append(\"\")\n",
        "\n",
        "            if container.p.find('span', class_ = 'genre') is not None:\n",
        "\n",
        "              #genre\n",
        "              genre = container.p.find('span', class_ = 'genre').text.replace(\"\\n\", \"\").rstrip().split(',') # remove the whitespace character, strip, and split to create an array of genres\n",
        "              genres.append(genre)\n",
        "\n",
        "            else:\n",
        "              genres.append(\"\")\n",
        "\n",
        "            if container.p.find('span', class_ = 'runtime') is not None:\n",
        "\n",
        "              #runtime\n",
        "              time = int(container.p.find('span', class_ = 'runtime').text.replace(\" min\", \"\")) # remove the minute word from the runtime and make it an integer\n",
        "              runtimes.append(time)\n",
        "\n",
        "            else:\n",
        "              runtimes.append(None)\n",
        "\n",
        "            if float(container.strong.text) is not None:\n",
        "\n",
        "              #IMDB ratings\n",
        "              imdb = float(container.strong.text) # non-standardized variable\n",
        "              imdb_ratings.append(imdb)\n",
        "\n",
        "            else:\n",
        "              imdb_ratings.append(None)\n",
        "\n",
        "            if container.find('span', class_ = 'metascore').text is not None:\n",
        "\n",
        "              #Metascore\n",
        "              m_score = int(container.find('span', class_ = 'metascore').text) # make it an integer\n",
        "              metascores.append(m_score)\n",
        "\n",
        "            else:\n",
        "              metascores.append(None)\n",
        "\n",
        "            if container.find('span', attrs = {'name':'nv'})['data-value'] is not None:\n",
        "\n",
        "              #Number of votes\n",
        "              vote = int(container.find('span', attrs = {'name':'nv'})['data-value'])\n",
        "              votes.append(vote)\n",
        "\n",
        "            else:\n",
        "                votes.append(None)"
      ]
    },
    {
      "cell_type": "markdown",
      "source": [
        "## Final Cleaning and Dataframe Writing"
      ],
      "metadata": {
        "id": "a7Ockpt1SFBN"
      }
    },
    {
      "cell_type": "code",
      "source": [
        "sci_fi_df = pd.DataFrame({'movie': titles,\n",
        "                       'year': years,\n",
        "                       'rating': ratings,\n",
        "                       'genre': genres,\n",
        "                       'runtime_min': runtimes,\n",
        "                       'imdb': imdb_ratings,\n",
        "                       'metascore': metascores,\n",
        "                       'votes': votes}\n",
        "                       )\n",
        "\n",
        "sci_fi_df.loc[:, 'year'] = sci_fi_df['year'].str[-5:-1] # two more data transformations after scraping\n",
        "# Drop 'ovie' bug\n",
        "# Make year an int\n",
        "sci_fi_df['n_imdb'] = sci_fi_df['imdb'] * 10\n",
        "final_df = sci_fi_df.loc[sci_fi_df['year'] != 'ovie'] # One small issue with the scrape on these two movies so just dropping those ones.\n",
        "final_df.loc[:, 'year'] = pd.to_numeric(final_df['year'])"
      ],
      "metadata": {
        "colab": {
          "base_uri": "https://localhost:8080/"
        },
        "id": "gWFS6l6oxQYw",
        "outputId": "ef141bf3-52a3-4437-bf99-c4bf2638f961"
      },
      "execution_count": null,
      "outputs": [
        {
          "output_type": "stream",
          "name": "stderr",
          "text": [
            "/usr/local/lib/python3.7/dist-packages/pandas/core/indexing.py:1773: SettingWithCopyWarning: \n",
            "A value is trying to be set on a copy of a slice from a DataFrame.\n",
            "Try using .loc[row_indexer,col_indexer] = value instead\n",
            "\n",
            "See the caveats in the documentation: https://pandas.pydata.org/pandas-docs/stable/user_guide/indexing.html#returning-a-view-versus-a-copy\n",
            "  self._setitem_single_column(ilocs[0], value, pi)\n"
          ]
        }
      ]
    },
    {
      "cell_type": "markdown",
      "source": [
        "## Exploratory Data Analysis (EDA)"
      ],
      "metadata": {
        "id": "uaLaqsF_R9eM"
      }
    },
    {
      "cell_type": "code",
      "source": [
        "final_df.head()"
      ],
      "metadata": {
        "colab": {
          "base_uri": "https://localhost:8080/",
          "height": 337
        },
        "id": "l_b5ZFvUxTgM",
        "outputId": "41f9b5f1-a385-44f2-865c-fd919033770a"
      },
      "execution_count": null,
      "outputs": [
        {
          "output_type": "execute_result",
          "data": {
            "text/plain": [
              "                                         movie  year rating  \\\n",
              "0                       Thor: Love and Thunder  2022  PG-13   \n",
              "1                     Minions: The Rise of Gru  2022     PG   \n",
              "2  Doctor Strange in the Multiverse of Madness  2022  PG-13   \n",
              "3                      Jurassic World Dominion  2022  PG-13   \n",
              "4            Everything Everywhere All at Once  2022      R   \n",
              "\n",
              "                              genre  runtime_min  imdb  metascore   votes  \\\n",
              "0     [Action,  Adventure,  Comedy]          118   6.9         57   88657   \n",
              "1  [Animation,  Adventure,  Comedy]           87   7.0         57   17788   \n",
              "2    [Action,  Adventure,  Fantasy]          126   7.0         60  303374   \n",
              "3     [Action,  Adventure,  Sci-Fi]          147   5.8         38   79851   \n",
              "4     [Action,  Adventure,  Comedy]          139   8.2         81  146327   \n",
              "\n",
              "   n_imdb  \n",
              "0    69.0  \n",
              "1    70.0  \n",
              "2    70.0  \n",
              "3    58.0  \n",
              "4    82.0  "
            ],
            "text/html": [
              "\n",
              "  <div id=\"df-fb17f6cd-d27a-41c0-879d-6436bd746d1f\">\n",
              "    <div class=\"colab-df-container\">\n",
              "      <div>\n",
              "<style scoped>\n",
              "    .dataframe tbody tr th:only-of-type {\n",
              "        vertical-align: middle;\n",
              "    }\n",
              "\n",
              "    .dataframe tbody tr th {\n",
              "        vertical-align: top;\n",
              "    }\n",
              "\n",
              "    .dataframe thead th {\n",
              "        text-align: right;\n",
              "    }\n",
              "</style>\n",
              "<table border=\"1\" class=\"dataframe\">\n",
              "  <thead>\n",
              "    <tr style=\"text-align: right;\">\n",
              "      <th></th>\n",
              "      <th>movie</th>\n",
              "      <th>year</th>\n",
              "      <th>rating</th>\n",
              "      <th>genre</th>\n",
              "      <th>runtime_min</th>\n",
              "      <th>imdb</th>\n",
              "      <th>metascore</th>\n",
              "      <th>votes</th>\n",
              "      <th>n_imdb</th>\n",
              "    </tr>\n",
              "  </thead>\n",
              "  <tbody>\n",
              "    <tr>\n",
              "      <th>0</th>\n",
              "      <td>Thor: Love and Thunder</td>\n",
              "      <td>2022</td>\n",
              "      <td>PG-13</td>\n",
              "      <td>[Action,  Adventure,  Comedy]</td>\n",
              "      <td>118</td>\n",
              "      <td>6.9</td>\n",
              "      <td>57</td>\n",
              "      <td>88657</td>\n",
              "      <td>69.0</td>\n",
              "    </tr>\n",
              "    <tr>\n",
              "      <th>1</th>\n",
              "      <td>Minions: The Rise of Gru</td>\n",
              "      <td>2022</td>\n",
              "      <td>PG</td>\n",
              "      <td>[Animation,  Adventure,  Comedy]</td>\n",
              "      <td>87</td>\n",
              "      <td>7.0</td>\n",
              "      <td>57</td>\n",
              "      <td>17788</td>\n",
              "      <td>70.0</td>\n",
              "    </tr>\n",
              "    <tr>\n",
              "      <th>2</th>\n",
              "      <td>Doctor Strange in the Multiverse of Madness</td>\n",
              "      <td>2022</td>\n",
              "      <td>PG-13</td>\n",
              "      <td>[Action,  Adventure,  Fantasy]</td>\n",
              "      <td>126</td>\n",
              "      <td>7.0</td>\n",
              "      <td>60</td>\n",
              "      <td>303374</td>\n",
              "      <td>70.0</td>\n",
              "    </tr>\n",
              "    <tr>\n",
              "      <th>3</th>\n",
              "      <td>Jurassic World Dominion</td>\n",
              "      <td>2022</td>\n",
              "      <td>PG-13</td>\n",
              "      <td>[Action,  Adventure,  Sci-Fi]</td>\n",
              "      <td>147</td>\n",
              "      <td>5.8</td>\n",
              "      <td>38</td>\n",
              "      <td>79851</td>\n",
              "      <td>58.0</td>\n",
              "    </tr>\n",
              "    <tr>\n",
              "      <th>4</th>\n",
              "      <td>Everything Everywhere All at Once</td>\n",
              "      <td>2022</td>\n",
              "      <td>R</td>\n",
              "      <td>[Action,  Adventure,  Comedy]</td>\n",
              "      <td>139</td>\n",
              "      <td>8.2</td>\n",
              "      <td>81</td>\n",
              "      <td>146327</td>\n",
              "      <td>82.0</td>\n",
              "    </tr>\n",
              "  </tbody>\n",
              "</table>\n",
              "</div>\n",
              "      <button class=\"colab-df-convert\" onclick=\"convertToInteractive('df-fb17f6cd-d27a-41c0-879d-6436bd746d1f')\"\n",
              "              title=\"Convert this dataframe to an interactive table.\"\n",
              "              style=\"display:none;\">\n",
              "        \n",
              "  <svg xmlns=\"http://www.w3.org/2000/svg\" height=\"24px\"viewBox=\"0 0 24 24\"\n",
              "       width=\"24px\">\n",
              "    <path d=\"M0 0h24v24H0V0z\" fill=\"none\"/>\n",
              "    <path d=\"M18.56 5.44l.94 2.06.94-2.06 2.06-.94-2.06-.94-.94-2.06-.94 2.06-2.06.94zm-11 1L8.5 8.5l.94-2.06 2.06-.94-2.06-.94L8.5 2.5l-.94 2.06-2.06.94zm10 10l.94 2.06.94-2.06 2.06-.94-2.06-.94-.94-2.06-.94 2.06-2.06.94z\"/><path d=\"M17.41 7.96l-1.37-1.37c-.4-.4-.92-.59-1.43-.59-.52 0-1.04.2-1.43.59L10.3 9.45l-7.72 7.72c-.78.78-.78 2.05 0 2.83L4 21.41c.39.39.9.59 1.41.59.51 0 1.02-.2 1.41-.59l7.78-7.78 2.81-2.81c.8-.78.8-2.07 0-2.86zM5.41 20L4 18.59l7.72-7.72 1.47 1.35L5.41 20z\"/>\n",
              "  </svg>\n",
              "      </button>\n",
              "      \n",
              "  <style>\n",
              "    .colab-df-container {\n",
              "      display:flex;\n",
              "      flex-wrap:wrap;\n",
              "      gap: 12px;\n",
              "    }\n",
              "\n",
              "    .colab-df-convert {\n",
              "      background-color: #E8F0FE;\n",
              "      border: none;\n",
              "      border-radius: 50%;\n",
              "      cursor: pointer;\n",
              "      display: none;\n",
              "      fill: #1967D2;\n",
              "      height: 32px;\n",
              "      padding: 0 0 0 0;\n",
              "      width: 32px;\n",
              "    }\n",
              "\n",
              "    .colab-df-convert:hover {\n",
              "      background-color: #E2EBFA;\n",
              "      box-shadow: 0px 1px 2px rgba(60, 64, 67, 0.3), 0px 1px 3px 1px rgba(60, 64, 67, 0.15);\n",
              "      fill: #174EA6;\n",
              "    }\n",
              "\n",
              "    [theme=dark] .colab-df-convert {\n",
              "      background-color: #3B4455;\n",
              "      fill: #D2E3FC;\n",
              "    }\n",
              "\n",
              "    [theme=dark] .colab-df-convert:hover {\n",
              "      background-color: #434B5C;\n",
              "      box-shadow: 0px 1px 3px 1px rgba(0, 0, 0, 0.15);\n",
              "      filter: drop-shadow(0px 1px 2px rgba(0, 0, 0, 0.3));\n",
              "      fill: #FFFFFF;\n",
              "    }\n",
              "  </style>\n",
              "\n",
              "      <script>\n",
              "        const buttonEl =\n",
              "          document.querySelector('#df-fb17f6cd-d27a-41c0-879d-6436bd746d1f button.colab-df-convert');\n",
              "        buttonEl.style.display =\n",
              "          google.colab.kernel.accessAllowed ? 'block' : 'none';\n",
              "\n",
              "        async function convertToInteractive(key) {\n",
              "          const element = document.querySelector('#df-fb17f6cd-d27a-41c0-879d-6436bd746d1f');\n",
              "          const dataTable =\n",
              "            await google.colab.kernel.invokeFunction('convertToInteractive',\n",
              "                                                     [key], {});\n",
              "          if (!dataTable) return;\n",
              "\n",
              "          const docLinkHtml = 'Like what you see? Visit the ' +\n",
              "            '<a target=\"_blank\" href=https://colab.research.google.com/notebooks/data_table.ipynb>data table notebook</a>'\n",
              "            + ' to learn more about interactive tables.';\n",
              "          element.innerHTML = '';\n",
              "          dataTable['output_type'] = 'display_data';\n",
              "          await google.colab.output.renderOutput(dataTable, element);\n",
              "          const docLink = document.createElement('div');\n",
              "          docLink.innerHTML = docLinkHtml;\n",
              "          element.appendChild(docLink);\n",
              "        }\n",
              "      </script>\n",
              "    </div>\n",
              "  </div>\n",
              "  "
            ]
          },
          "metadata": {},
          "execution_count": 152
        }
      ]
    },
    {
      "cell_type": "code",
      "source": [
        "final_df.describe()"
      ],
      "metadata": {
        "colab": {
          "base_uri": "https://localhost:8080/",
          "height": 300
        },
        "id": "kQDgqpEay8fx",
        "outputId": "7bfb02b6-a5f4-46a9-e1b7-063098f59ac4"
      },
      "execution_count": null,
      "outputs": [
        {
          "output_type": "execute_result",
          "data": {
            "text/plain": [
              "              year  runtime_min         imdb   metascore         votes  \\\n",
              "count  1306.000000  1306.000000  1306.000000  1306.00000  1.306000e+03   \n",
              "mean   2004.391271   105.057427     6.106202    52.89510  1.350474e+05   \n",
              "std      15.618808    18.505476     1.077588    17.08717  2.283907e+05   \n",
              "min    1927.000000    60.000000     1.500000     6.00000  6.800000e+01   \n",
              "25%    1997.000000    92.000000     5.500000    41.00000  1.009900e+04   \n",
              "50%    2009.000000   101.000000     6.200000    53.00000  4.158400e+04   \n",
              "75%    2017.000000   114.000000     6.800000    65.00000  1.507438e+05   \n",
              "max    2022.000000   242.000000     8.800000    98.00000  2.289860e+06   \n",
              "\n",
              "            n_imdb  \n",
              "count  1306.000000  \n",
              "mean     61.062021  \n",
              "std      10.775877  \n",
              "min      15.000000  \n",
              "25%      55.000000  \n",
              "50%      62.000000  \n",
              "75%      68.000000  \n",
              "max      88.000000  "
            ],
            "text/html": [
              "\n",
              "  <div id=\"df-c3d40a7b-8afd-4b69-bd17-a8acf8969053\">\n",
              "    <div class=\"colab-df-container\">\n",
              "      <div>\n",
              "<style scoped>\n",
              "    .dataframe tbody tr th:only-of-type {\n",
              "        vertical-align: middle;\n",
              "    }\n",
              "\n",
              "    .dataframe tbody tr th {\n",
              "        vertical-align: top;\n",
              "    }\n",
              "\n",
              "    .dataframe thead th {\n",
              "        text-align: right;\n",
              "    }\n",
              "</style>\n",
              "<table border=\"1\" class=\"dataframe\">\n",
              "  <thead>\n",
              "    <tr style=\"text-align: right;\">\n",
              "      <th></th>\n",
              "      <th>year</th>\n",
              "      <th>runtime_min</th>\n",
              "      <th>imdb</th>\n",
              "      <th>metascore</th>\n",
              "      <th>votes</th>\n",
              "      <th>n_imdb</th>\n",
              "    </tr>\n",
              "  </thead>\n",
              "  <tbody>\n",
              "    <tr>\n",
              "      <th>count</th>\n",
              "      <td>1306.000000</td>\n",
              "      <td>1306.000000</td>\n",
              "      <td>1306.000000</td>\n",
              "      <td>1306.00000</td>\n",
              "      <td>1.306000e+03</td>\n",
              "      <td>1306.000000</td>\n",
              "    </tr>\n",
              "    <tr>\n",
              "      <th>mean</th>\n",
              "      <td>2004.391271</td>\n",
              "      <td>105.057427</td>\n",
              "      <td>6.106202</td>\n",
              "      <td>52.89510</td>\n",
              "      <td>1.350474e+05</td>\n",
              "      <td>61.062021</td>\n",
              "    </tr>\n",
              "    <tr>\n",
              "      <th>std</th>\n",
              "      <td>15.618808</td>\n",
              "      <td>18.505476</td>\n",
              "      <td>1.077588</td>\n",
              "      <td>17.08717</td>\n",
              "      <td>2.283907e+05</td>\n",
              "      <td>10.775877</td>\n",
              "    </tr>\n",
              "    <tr>\n",
              "      <th>min</th>\n",
              "      <td>1927.000000</td>\n",
              "      <td>60.000000</td>\n",
              "      <td>1.500000</td>\n",
              "      <td>6.00000</td>\n",
              "      <td>6.800000e+01</td>\n",
              "      <td>15.000000</td>\n",
              "    </tr>\n",
              "    <tr>\n",
              "      <th>25%</th>\n",
              "      <td>1997.000000</td>\n",
              "      <td>92.000000</td>\n",
              "      <td>5.500000</td>\n",
              "      <td>41.00000</td>\n",
              "      <td>1.009900e+04</td>\n",
              "      <td>55.000000</td>\n",
              "    </tr>\n",
              "    <tr>\n",
              "      <th>50%</th>\n",
              "      <td>2009.000000</td>\n",
              "      <td>101.000000</td>\n",
              "      <td>6.200000</td>\n",
              "      <td>53.00000</td>\n",
              "      <td>4.158400e+04</td>\n",
              "      <td>62.000000</td>\n",
              "    </tr>\n",
              "    <tr>\n",
              "      <th>75%</th>\n",
              "      <td>2017.000000</td>\n",
              "      <td>114.000000</td>\n",
              "      <td>6.800000</td>\n",
              "      <td>65.00000</td>\n",
              "      <td>1.507438e+05</td>\n",
              "      <td>68.000000</td>\n",
              "    </tr>\n",
              "    <tr>\n",
              "      <th>max</th>\n",
              "      <td>2022.000000</td>\n",
              "      <td>242.000000</td>\n",
              "      <td>8.800000</td>\n",
              "      <td>98.00000</td>\n",
              "      <td>2.289860e+06</td>\n",
              "      <td>88.000000</td>\n",
              "    </tr>\n",
              "  </tbody>\n",
              "</table>\n",
              "</div>\n",
              "      <button class=\"colab-df-convert\" onclick=\"convertToInteractive('df-c3d40a7b-8afd-4b69-bd17-a8acf8969053')\"\n",
              "              title=\"Convert this dataframe to an interactive table.\"\n",
              "              style=\"display:none;\">\n",
              "        \n",
              "  <svg xmlns=\"http://www.w3.org/2000/svg\" height=\"24px\"viewBox=\"0 0 24 24\"\n",
              "       width=\"24px\">\n",
              "    <path d=\"M0 0h24v24H0V0z\" fill=\"none\"/>\n",
              "    <path d=\"M18.56 5.44l.94 2.06.94-2.06 2.06-.94-2.06-.94-.94-2.06-.94 2.06-2.06.94zm-11 1L8.5 8.5l.94-2.06 2.06-.94-2.06-.94L8.5 2.5l-.94 2.06-2.06.94zm10 10l.94 2.06.94-2.06 2.06-.94-2.06-.94-.94-2.06-.94 2.06-2.06.94z\"/><path d=\"M17.41 7.96l-1.37-1.37c-.4-.4-.92-.59-1.43-.59-.52 0-1.04.2-1.43.59L10.3 9.45l-7.72 7.72c-.78.78-.78 2.05 0 2.83L4 21.41c.39.39.9.59 1.41.59.51 0 1.02-.2 1.41-.59l7.78-7.78 2.81-2.81c.8-.78.8-2.07 0-2.86zM5.41 20L4 18.59l7.72-7.72 1.47 1.35L5.41 20z\"/>\n",
              "  </svg>\n",
              "      </button>\n",
              "      \n",
              "  <style>\n",
              "    .colab-df-container {\n",
              "      display:flex;\n",
              "      flex-wrap:wrap;\n",
              "      gap: 12px;\n",
              "    }\n",
              "\n",
              "    .colab-df-convert {\n",
              "      background-color: #E8F0FE;\n",
              "      border: none;\n",
              "      border-radius: 50%;\n",
              "      cursor: pointer;\n",
              "      display: none;\n",
              "      fill: #1967D2;\n",
              "      height: 32px;\n",
              "      padding: 0 0 0 0;\n",
              "      width: 32px;\n",
              "    }\n",
              "\n",
              "    .colab-df-convert:hover {\n",
              "      background-color: #E2EBFA;\n",
              "      box-shadow: 0px 1px 2px rgba(60, 64, 67, 0.3), 0px 1px 3px 1px rgba(60, 64, 67, 0.15);\n",
              "      fill: #174EA6;\n",
              "    }\n",
              "\n",
              "    [theme=dark] .colab-df-convert {\n",
              "      background-color: #3B4455;\n",
              "      fill: #D2E3FC;\n",
              "    }\n",
              "\n",
              "    [theme=dark] .colab-df-convert:hover {\n",
              "      background-color: #434B5C;\n",
              "      box-shadow: 0px 1px 3px 1px rgba(0, 0, 0, 0.15);\n",
              "      filter: drop-shadow(0px 1px 2px rgba(0, 0, 0, 0.3));\n",
              "      fill: #FFFFFF;\n",
              "    }\n",
              "  </style>\n",
              "\n",
              "      <script>\n",
              "        const buttonEl =\n",
              "          document.querySelector('#df-c3d40a7b-8afd-4b69-bd17-a8acf8969053 button.colab-df-convert');\n",
              "        buttonEl.style.display =\n",
              "          google.colab.kernel.accessAllowed ? 'block' : 'none';\n",
              "\n",
              "        async function convertToInteractive(key) {\n",
              "          const element = document.querySelector('#df-c3d40a7b-8afd-4b69-bd17-a8acf8969053');\n",
              "          const dataTable =\n",
              "            await google.colab.kernel.invokeFunction('convertToInteractive',\n",
              "                                                     [key], {});\n",
              "          if (!dataTable) return;\n",
              "\n",
              "          const docLinkHtml = 'Like what you see? Visit the ' +\n",
              "            '<a target=\"_blank\" href=https://colab.research.google.com/notebooks/data_table.ipynb>data table notebook</a>'\n",
              "            + ' to learn more about interactive tables.';\n",
              "          element.innerHTML = '';\n",
              "          dataTable['output_type'] = 'display_data';\n",
              "          await google.colab.output.renderOutput(dataTable, element);\n",
              "          const docLink = document.createElement('div');\n",
              "          docLink.innerHTML = docLinkHtml;\n",
              "          element.appendChild(docLink);\n",
              "        }\n",
              "      </script>\n",
              "    </div>\n",
              "  </div>\n",
              "  "
            ]
          },
          "metadata": {},
          "execution_count": 153
        }
      ]
    },
    {
      "cell_type": "code",
      "source": [
        "final_df.info()"
      ],
      "metadata": {
        "colab": {
          "base_uri": "https://localhost:8080/"
        },
        "id": "LdpouRogzRkO",
        "outputId": "236b34a5-9d34-4dd5-86ee-6cf0560a5a82"
      },
      "execution_count": null,
      "outputs": [
        {
          "output_type": "stream",
          "name": "stdout",
          "text": [
            "<class 'pandas.core.frame.DataFrame'>\n",
            "Int64Index: 1306 entries, 0 to 1307\n",
            "Data columns (total 9 columns):\n",
            " #   Column       Non-Null Count  Dtype  \n",
            "---  ------       --------------  -----  \n",
            " 0   movie        1306 non-null   object \n",
            " 1   year         1306 non-null   int64  \n",
            " 2   rating       1306 non-null   object \n",
            " 3   genre        1306 non-null   object \n",
            " 4   runtime_min  1306 non-null   int64  \n",
            " 5   imdb         1306 non-null   float64\n",
            " 6   metascore    1306 non-null   int64  \n",
            " 7   votes        1306 non-null   int64  \n",
            " 8   n_imdb       1306 non-null   float64\n",
            "dtypes: float64(2), int64(4), object(3)\n",
            "memory usage: 102.0+ KB\n"
          ]
        }
      ]
    },
    {
      "cell_type": "code",
      "source": [
        "sns.heatmap(final_df.corr(), annot=True);"
      ],
      "metadata": {
        "colab": {
          "base_uri": "https://localhost:8080/",
          "height": 270
        },
        "id": "_IfxxuHxzRmm",
        "outputId": "e1af4480-8f62-4a4a-ce1d-1af535acd2bf"
      },
      "execution_count": null,
      "outputs": [
        {
          "output_type": "display_data",
          "data": {
            "text/plain": [
              "<Figure size 432x288 with 2 Axes>"
            ],
            "image/png": "[encoded data removed]"
          },
          "metadata": {
            "needs_background": "light"
          }
        }
      ]
    },
    {
      "cell_type": "code",
      "source": [
        "x = final_df['n_imdb']\n",
        "y = final_df['votes']\n",
        "plt.scatter(x, y, alpha=0.5) # s= is size var, c= is color var\n",
        "plt.xlabel(\"IMDB Rating Standardized\")\n",
        "plt.ylabel(\"Number of Votes\")\n",
        "plt.title(\"Number of Votes vs. IMDB Rating\")\n",
        "plt.ticklabel_format(style='plain')\n",
        "plt.show()"
      ],
      "metadata": {
        "colab": {
          "base_uri": "https://localhost:8080/",
          "height": 295
        },
        "id": "5uwHv0DgRV5n",
        "outputId": "5a8d7209-4ec9-4753-8ccb-a88e3853d718"
      },
      "execution_count": null,
      "outputs": [
        {
          "output_type": "display_data",
          "data": {
            "text/plain": [
              "<Figure size 432x288 with 1 Axes>"
            ],
            "image/png": "[encoded data removed]"
          },
          "metadata": {
            "needs_background": "light"
          }
        }
      ]
    },
    {
      "cell_type": "code",
      "source": [
        "ax = final_df['rating'].value_counts().plot(kind='bar',\n",
        "                                    figsize=(14,8),\n",
        "                                    title=\"Number of Movies by Rating\")\n",
        "ax.set_xlabel(\"Rating\")\n",
        "ax.set_ylabel(\"Number of Movies\")\n",
        "ax.plot();"
      ],
      "metadata": {
        "colab": {
          "base_uri": "https://localhost:8080/",
          "height": 551
        },
        "id": "on0U59HXSVDC",
        "outputId": "a8b8f7d0-1400-44f4-d044-c1dcce5b7f61"
      },
      "execution_count": null,
      "outputs": [
        {
          "output_type": "display_data",
          "data": {
            "text/plain": [
              "<Figure size 1008x576 with 1 Axes>"
            ],
            "image/png": "[encoded data removed]"
          },
          "metadata": {
            "needs_background": "light"
          }
        }
      ]
    },
    {
      "cell_type": "code",
      "source": [
        "final_df[final_df['rating'] == 'Approved']"
      ],
      "metadata": {
        "colab": {
          "base_uri": "https://localhost:8080/",
          "height": 355
        },
        "id": "crFcbgHISVHq",
        "outputId": "fe34bd55-0995-45b6-cd87-70d86bb3c2b5"
      },
      "execution_count": null,
      "outputs": [
        {
          "output_type": "execute_result",
          "data": {
            "text/plain": [
              "                               movie  year    rating  \\\n",
              "53                        Rollerball  1975  Approved   \n",
              "603   Invasion of the Body Snatchers  1956  Approved   \n",
              "753                         The Blob  1958  Approved   \n",
              "889                     On the Beach  1959  Approved   \n",
              "958                       Demon Seed  1977  Approved   \n",
              "1043     The Absent Minded Professor  1961  Approved   \n",
              "1076       The Curse of Frankenstein  1957  Approved   \n",
              "1124          Children of the Damned  1964  Approved   \n",
              "1154                Mighty Joe Young  1949  Approved   \n",
              "1237                      The Damned  1962  Approved   \n",
              "\n",
              "                              genre  runtime_min  imdb  metascore  votes  \\\n",
              "53        [Action,  Sci-Fi,  Sport]          125   6.6         56  25028   \n",
              "603       [Drama,  Horror,  Sci-Fi]           80   7.7         92  49458   \n",
              "753               [Horror,  Sci-Fi]           86   6.3         58  26224   \n",
              "889      [Drama,  Romance,  Sci-Fi]          134   7.1         55  13053   \n",
              "958               [Horror,  Sci-Fi]           94   6.3         55   9065   \n",
              "1043     [Comedy,  Family,  Sci-Fi]           92   6.7         75   8374   \n",
              "1076   [Horror,  Sci-Fi,  Thriller]           82   7.0         59  11116   \n",
              "1124     [Drama,  Horror,  Mystery]           89   6.2         42   4517   \n",
              "1154  [Adventure,  Drama,  Fantasy]           94   7.0         61   5278   \n",
              "1237     [Drama,  Fantasy,  Horror]           87   6.6         72   3505   \n",
              "\n",
              "      n_imdb  \n",
              "53      66.0  \n",
              "603     77.0  \n",
              "753     63.0  \n",
              "889     71.0  \n",
              "958     63.0  \n",
              "1043    67.0  \n",
              "1076    70.0  \n",
              "1124    62.0  \n",
              "1154    70.0  \n",
              "1237    66.0  "
            ],
            "text/html": [
              "\n",
              "  <div id=\"df-4b4002e0-edb8-4381-9e81-c284fd459e07\">\n",
              "    <div class=\"colab-df-container\">\n",
              "      <div>\n",
              "<style scoped>\n",
              "    .dataframe tbody tr th:only-of-type {\n",
              "        vertical-align: middle;\n",
              "    }\n",
              "\n",
              "    .dataframe tbody tr th {\n",
              "        vertical-align: top;\n",
              "    }\n",
              "\n",
              "    .dataframe thead th {\n",
              "        text-align: right;\n",
              "    }\n",
              "</style>\n",
              "<table border=\"1\" class=\"dataframe\">\n",
              "  <thead>\n",
              "    <tr style=\"text-align: right;\">\n",
              "      <th></th>\n",
              "      <th>movie</th>\n",
              "      <th>year</th>\n",
              "      <th>rating</th>\n",
              "      <th>genre</th>\n",
              "      <th>runtime_min</th>\n",
              "      <th>imdb</th>\n",
              "      <th>metascore</th>\n",
              "      <th>votes</th>\n",
              "      <th>n_imdb</th>\n",
              "    </tr>\n",
              "  </thead>\n",
              "  <tbody>\n",
              "    <tr>\n",
              "      <th>53</th>\n",
              "      <td>Rollerball</td>\n",
              "      <td>1975</td>\n",
              "      <td>Approved</td>\n",
              "      <td>[Action,  Sci-Fi,  Sport]</td>\n",
              "      <td>125</td>\n",
              "      <td>6.6</td>\n",
              "      <td>56</td>\n",
              "      <td>25028</td>\n",
              "      <td>66.0</td>\n",
              "    </tr>\n",
              "    <tr>\n",
              "      <th>603</th>\n",
              "      <td>Invasion of the Body Snatchers</td>\n",
              "      <td>1956</td>\n",
              "      <td>Approved</td>\n",
              "      <td>[Drama,  Horror,  Sci-Fi]</td>\n",
              "      <td>80</td>\n",
              "      <td>7.7</td>\n",
              "      <td>92</td>\n",
              "      <td>49458</td>\n",
              "      <td>77.0</td>\n",
              "    </tr>\n",
              "    <tr>\n",
              "      <th>753</th>\n",
              "      <td>The Blob</td>\n",
              "      <td>1958</td>\n",
              "      <td>Approved</td>\n",
              "      <td>[Horror,  Sci-Fi]</td>\n",
              "      <td>86</td>\n",
              "      <td>6.3</td>\n",
              "      <td>58</td>\n",
              "      <td>26224</td>\n",
              "      <td>63.0</td>\n",
              "    </tr>\n",
              "    <tr>\n",
              "      <th>889</th>\n",
              "      <td>On the Beach</td>\n",
              "      <td>1959</td>\n",
              "      <td>Approved</td>\n",
              "      <td>[Drama,  Romance,  Sci-Fi]</td>\n",
              "      <td>134</td>\n",
              "      <td>7.1</td>\n",
              "      <td>55</td>\n",
              "      <td>13053</td>\n",
              "      <td>71.0</td>\n",
              "    </tr>\n",
              "    <tr>\n",
              "      <th>958</th>\n",
              "      <td>Demon Seed</td>\n",
              "      <td>1977</td>\n",
              "      <td>Approved</td>\n",
              "      <td>[Horror,  Sci-Fi]</td>\n",
              "      <td>94</td>\n",
              "      <td>6.3</td>\n",
              "      <td>55</td>\n",
              "      <td>9065</td>\n",
              "      <td>63.0</td>\n",
              "    </tr>\n",
              "    <tr>\n",
              "      <th>1043</th>\n",
              "      <td>The Absent Minded Professor</td>\n",
              "      <td>1961</td>\n",
              "      <td>Approved</td>\n",
              "      <td>[Comedy,  Family,  Sci-Fi]</td>\n",
              "      <td>92</td>\n",
              "      <td>6.7</td>\n",
              "      <td>75</td>\n",
              "      <td>8374</td>\n",
              "      <td>67.0</td>\n",
              "    </tr>\n",
              "    <tr>\n",
              "      <th>1076</th>\n",
              "      <td>The Curse of Frankenstein</td>\n",
              "      <td>1957</td>\n",
              "      <td>Approved</td>\n",
              "      <td>[Horror,  Sci-Fi,  Thriller]</td>\n",
              "      <td>82</td>\n",
              "      <td>7.0</td>\n",
              "      <td>59</td>\n",
              "      <td>11116</td>\n",
              "      <td>70.0</td>\n",
              "    </tr>\n",
              "    <tr>\n",
              "      <th>1124</th>\n",
              "      <td>Children of the Damned</td>\n",
              "      <td>1964</td>\n",
              "      <td>Approved</td>\n",
              "      <td>[Drama,  Horror,  Mystery]</td>\n",
              "      <td>89</td>\n",
              "      <td>6.2</td>\n",
              "      <td>42</td>\n",
              "      <td>4517</td>\n",
              "      <td>62.0</td>\n",
              "    </tr>\n",
              "    <tr>\n",
              "      <th>1154</th>\n",
              "      <td>Mighty Joe Young</td>\n",
              "      <td>1949</td>\n",
              "      <td>Approved</td>\n",
              "      <td>[Adventure,  Drama,  Fantasy]</td>\n",
              "      <td>94</td>\n",
              "      <td>7.0</td>\n",
              "      <td>61</td>\n",
              "      <td>5278</td>\n",
              "      <td>70.0</td>\n",
              "    </tr>\n",
              "    <tr>\n",
              "      <th>1237</th>\n",
              "      <td>The Damned</td>\n",
              "      <td>1962</td>\n",
              "      <td>Approved</td>\n",
              "      <td>[Drama,  Fantasy,  Horror]</td>\n",
              "      <td>87</td>\n",
              "      <td>6.6</td>\n",
              "      <td>72</td>\n",
              "      <td>3505</td>\n",
              "      <td>66.0</td>\n",
              "    </tr>\n",
              "  </tbody>\n",
              "</table>\n",
              "</div>\n",
              "      <button class=\"colab-df-convert\" onclick=\"convertToInteractive('df-4b4002e0-edb8-4381-9e81-c284fd459e07')\"\n",
              "              title=\"Convert this dataframe to an interactive table.\"\n",
              "              style=\"display:none;\">\n",
              "        \n",
              "  <svg xmlns=\"http://www.w3.org/2000/svg\" height=\"24px\"viewBox=\"0 0 24 24\"\n",
              "       width=\"24px\">\n",
              "    <path d=\"M0 0h24v24H0V0z\" fill=\"none\"/>\n",
              "    <path d=\"M18.56 5.44l.94 2.06.94-2.06 2.06-.94-2.06-.94-.94-2.06-.94 2.06-2.06.94zm-11 1L8.5 8.5l.94-2.06 2.06-.94-2.06-.94L8.5 2.5l-.94 2.06-2.06.94zm10 10l.94 2.06.94-2.06 2.06-.94-2.06-.94-.94-2.06-.94 2.06-2.06.94z\"/><path d=\"M17.41 7.96l-1.37-1.37c-.4-.4-.92-.59-1.43-.59-.52 0-1.04.2-1.43.59L10.3 9.45l-7.72 7.72c-.78.78-.78 2.05 0 2.83L4 21.41c.39.39.9.59 1.41.59.51 0 1.02-.2 1.41-.59l7.78-7.78 2.81-2.81c.8-.78.8-2.07 0-2.86zM5.41 20L4 18.59l7.72-7.72 1.47 1.35L5.41 20z\"/>\n",
              "  </svg>\n",
              "      </button>\n",
              "      \n",
              "  <style>\n",
              "    .colab-df-container {\n",
              "      display:flex;\n",
              "      flex-wrap:wrap;\n",
              "      gap: 12px;\n",
              "    }\n",
              "\n",
              "    .colab-df-convert {\n",
              "      background-color: #E8F0FE;\n",
              "      border: none;\n",
              "      border-radius: 50%;\n",
              "      cursor: pointer;\n",
              "      display: none;\n",
              "      fill: #1967D2;\n",
              "      height: 32px;\n",
              "      padding: 0 0 0 0;\n",
              "      width: 32px;\n",
              "    }\n",
              "\n",
              "    .colab-df-convert:hover {\n",
              "      background-color: #E2EBFA;\n",
              "      box-shadow: 0px 1px 2px rgba(60, 64, 67, 0.3), 0px 1px 3px 1px rgba(60, 64, 67, 0.15);\n",
              "      fill: #174EA6;\n",
              "    }\n",
              "\n",
              "    [theme=dark] .colab-df-convert {\n",
              "      background-color: #3B4455;\n",
              "      fill: #D2E3FC;\n",
              "    }\n",
              "\n",
              "    [theme=dark] .colab-df-convert:hover {\n",
              "      background-color: #434B5C;\n",
              "      box-shadow: 0px 1px 3px 1px rgba(0, 0, 0, 0.15);\n",
              "      filter: drop-shadow(0px 1px 2px rgba(0, 0, 0, 0.3));\n",
              "      fill: #FFFFFF;\n",
              "    }\n",
              "  </style>\n",
              "\n",
              "      <script>\n",
              "        const buttonEl =\n",
              "          document.querySelector('#df-4b4002e0-edb8-4381-9e81-c284fd459e07 button.colab-df-convert');\n",
              "        buttonEl.style.display =\n",
              "          google.colab.kernel.accessAllowed ? 'block' : 'none';\n",
              "\n",
              "        async function convertToInteractive(key) {\n",
              "          const element = document.querySelector('#df-4b4002e0-edb8-4381-9e81-c284fd459e07');\n",
              "          const dataTable =\n",
              "            await google.colab.kernel.invokeFunction('convertToInteractive',\n",
              "                                                     [key], {});\n",
              "          if (!dataTable) return;\n",
              "\n",
              "          const docLinkHtml = 'Like what you see? Visit the ' +\n",
              "            '<a target=\"_blank\" href=https://colab.research.google.com/notebooks/data_table.ipynb>data table notebook</a>'\n",
              "            + ' to learn more about interactive tables.';\n",
              "          element.innerHTML = '';\n",
              "          dataTable['output_type'] = 'display_data';\n",
              "          await google.colab.output.renderOutput(dataTable, element);\n",
              "          const docLink = document.createElement('div');\n",
              "          docLink.innerHTML = docLinkHtml;\n",
              "          element.appendChild(docLink);\n",
              "        }\n",
              "      </script>\n",
              "    </div>\n",
              "  </div>\n",
              "  "
            ]
          },
          "metadata": {},
          "execution_count": 160
        }
      ]
    },
    {
      "cell_type": "markdown",
      "source": [
        "It looks like the \"Approved\" rating is an older movie rating that was perhaps phased out in later years? I couldn't find any representation of the Approved rating on the MPAA website which is evidence towards my claim that it has been phased out."
      ],
      "metadata": {
        "id": "cYwMLnfJS1U6"
      }
    },
    {
      "cell_type": "code",
      "source": [
        "# What are the average metascores by year?\n",
        "final_df.groupby('year')['metascore'].mean().plot(kind='bar', figsize=(16,8), title=\"Avg. Metascore by Year\", xlabel=\"Year\", ylabel=\"Avg. Metascore\")\n",
        "plt.xticks(rotation=90)\n",
        "plt.plot();"
      ],
      "metadata": {
        "colab": {
          "base_uri": "https://localhost:8080/",
          "height": 467
        },
        "id": "HMylgkYNSVMW",
        "outputId": "902bef8d-ece6-427c-a653-46480691859b"
      },
      "execution_count": null,
      "outputs": [
        {
          "output_type": "display_data",
          "data": {
            "text/plain": [
              "<Figure size 1152x576 with 1 Axes>"
            ],
            "image/png": "[encoded data removed]"
          },
          "metadata": {
            "needs_background": "light"
          }
        }
      ]
    },
    {
      "cell_type": "markdown",
      "source": [
        "Looking at the above graph, one could say that for some reason movie metascores have gradually fallen since 1927 to this year, leveling out around 55-60 in the last couple decades."
      ],
      "metadata": {
        "id": "63gvejCCGFTf"
      }
    },
    {
      "cell_type": "code",
      "source": [
        "final_df['year'].value_counts().plot(kind='bar', figsize=[20,9])"
      ],
      "metadata": {
        "colab": {
          "base_uri": "https://localhost:8080/",
          "height": 423
        },
        "id": "IfkeMsPJSVOk",
        "outputId": "7bfbab80-36b6-4217-db6f-d34270e9259a"
      },
      "execution_count": null,
      "outputs": [
        {
          "output_type": "execute_result",
          "data": {
            "text/plain": [
              "<matplotlib.axes._subplots.AxesSubplot at 0x7fac30fe4a10>"
            ]
          },
          "metadata": {},
          "execution_count": 132
        },
        {
          "output_type": "display_data",
          "data": {
            "text/plain": [
              "<Figure size 1440x648 with 1 Axes>"
            ],
            "image/png": "[encoded data removed]"
          },
          "metadata": {
            "needs_background": "light"
          }
        }
      ]
    },
    {
      "cell_type": "markdown",
      "source": [
        "------"
      ],
      "metadata": {
        "id": "pDDln6omSWGt"
      }
    },
    {
      "cell_type": "markdown",
      "source": [
        "## Further Exploration\n",
        "\n",
        "Now that you have gotten a handle of the data and explored it a bit, you can take this further and run predictive analyses or use Natural Language Processing (NLP) to uncover even more!\n",
        "\n",
        "You could use NLP for example to see if there are any naming conventions to movie ratings, or within the world of Sci-Fi (or if you chose to do a different genre, whatever you choose!). You could also modify the webscraping code to pull many more genres by adding another for loop cycling through and inputting the different genres of interest into the base URL, and use this new inter-genre database to see if there are naming conventions by genre.\n",
        "\n",
        "You could then try to predict the genre based on the name of the movie, or predict the IMDB rating based on the genre or the year the movie came out. The latter idea would probably work better in the last couple decades since that is where the majority of observations lie.\n"
      ],
      "metadata": {
        "id": "EesGtgYpuyJU"
      }
    }
  ]
}